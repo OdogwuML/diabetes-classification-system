{
 "cells": [
  {
   "cell_type": "markdown",
   "id": "7ca53be2-f2de-4d55-bbf0-73825ecd259f",
   "metadata": {},
   "source": [
    "## Import Libraries"
   ]
  },
  {
   "cell_type": "code",
   "execution_count": 1,
   "id": "d8fd3241-2dac-4bc5-b8a2-470024879a64",
   "metadata": {},
   "outputs": [
    {
     "name": "stdout",
     "output_type": "stream",
     "text": [
      "✓ Libraries imported successfully!\n"
     ]
    }
   ],
   "source": [
    "import pandas as pd\n",
    "import numpy as np\n",
    "from sklearn.naive_bayes import GaussianNB\n",
    "from sklearn.svm import SVC\n",
    "from sklearn.tree import DecisionTreeClassifier\n",
    "from sklearn.model_selection import GridSearchCV, cross_val_score\n",
    "import joblib\n",
    "import time\n",
    "import warnings\n",
    "warnings.filterwarnings('ignore')\n",
    "\n",
    "print(\"✓ Libraries imported successfully!\")"
   ]
  },
  {
   "cell_type": "markdown",
   "id": "dc5fa90d-8ae4-43d4-a162-9df56f50c49f",
   "metadata": {},
   "source": [
    "## Load Preprocessed data"
   ]
  },
  {
   "cell_type": "code",
   "execution_count": 2,
   "id": "b1a8b6f5-e542-4e9c-862a-35007a680832",
   "metadata": {},
   "outputs": [
    {
     "name": "stdout",
     "output_type": "stream",
     "text": [
      "✓ Data loaded successfully!\n",
      "\n",
      "Training samples: 614\n",
      "Testing samples: 154\n",
      "Features: 8\n"
     ]
    }
   ],
   "source": [
    "# Load the preprocessed data we saved in Phase 3\n",
    "X_train = pd.read_csv('data/X_train_scaled.csv')\n",
    "X_test = pd.read_csv('data/X_test_scaled.csv')\n",
    "y_train = pd.read_csv('data/y_train.csv').values.ravel()\n",
    "y_test = pd.read_csv('data/y_test.csv').values.ravel()\n",
    "\n",
    "print(\"✓ Data loaded successfully!\")\n",
    "print(f\"\\nTraining samples: {len(X_train)}\")\n",
    "print(f\"Testing samples: {len(X_test)}\")\n",
    "print(f\"Features: {X_train.shape[1]}\")"
   ]
  },
  {
   "cell_type": "markdown",
   "id": "b3bbb6fa-eed0-458e-9624-b8ac69ab4e21",
   "metadata": {},
   "source": [
    "## Initialize storage for results"
   ]
  },
  {
   "cell_type": "code",
   "execution_count": 3,
   "id": "548145cd-b08e-42cb-aa44-a73b3d8f913c",
   "metadata": {},
   "outputs": [
    {
     "name": "stdout",
     "output_type": "stream",
     "text": [
      "✓ Storage initialized for models and results\n"
     ]
    }
   ],
   "source": [
    "# Dictionary to store trained models\n",
    "models = {}\n",
    "\n",
    "# List to store training results\n",
    "results = []\n",
    "\n",
    "print(\"✓ Storage initialized for models and results\")"
   ]
  },
  {
   "cell_type": "markdown",
   "id": "ecebc51b-6198-42ad-a2b5-1a4c88fc2af2",
   "metadata": {},
   "source": [
    "## Train Naive Bayes Model"
   ]
  },
  {
   "cell_type": "code",
   "execution_count": 4,
   "id": "9589a862-856c-4f82-96c7-cef271451f35",
   "metadata": {},
   "outputs": [
    {
     "name": "stdout",
     "output_type": "stream",
     "text": [
      "======================================================================\n",
      "MODEL 1: NAÏVE BAYES CLASSIFIER\n",
      "======================================================================\n",
      "\n",
      "✓ Training completed in 0.06 seconds\n",
      "\n",
      "Cross-Validation Scores (5 folds):\n",
      "  Fold 1: 0.7642 (76.42%)\n",
      "  Fold 2: 0.7561 (75.61%)\n",
      "  Fold 3: 0.7561 (75.61%)\n",
      "  Fold 4: 0.7480 (74.80%)\n",
      "  Fold 5: 0.7705 (77.05%)\n",
      "\n",
      "📊 Mean CV Accuracy: 0.7590 (75.90%)\n",
      "   Standard Deviation: ±0.0077\n",
      "\n",
      "✓ Naïve Bayes model saved to memory\n"
     ]
    }
   ],
   "source": [
    "print(\"=\" * 70)\n",
    "print(\"MODEL 1: NAÏVE BAYES CLASSIFIER\")\n",
    "print(\"=\" * 70)\n",
    "\n",
    "# Start timer\n",
    "start_time = time.time()\n",
    "\n",
    "# Create and train Naïve Bayes model\n",
    "nb_model = GaussianNB()\n",
    "nb_model.fit(X_train, y_train)\n",
    "\n",
    "# Perform 5-fold cross-validation\n",
    "cv_scores = cross_val_score(nb_model, X_train, y_train, cv=5, scoring='accuracy')\n",
    "\n",
    "# Calculate training time\n",
    "training_time = time.time() - start_time\n",
    "\n",
    "# Display results\n",
    "print(f\"\\n✓ Training completed in {training_time:.2f} seconds\")\n",
    "print(f\"\\nCross-Validation Scores (5 folds):\")\n",
    "for i, score in enumerate(cv_scores, 1):\n",
    "    print(f\"  Fold {i}: {score:.4f} ({score*100:.2f}%)\")\n",
    "\n",
    "print(f\"\\n📊 Mean CV Accuracy: {cv_scores.mean():.4f} ({cv_scores.mean()*100:.2f}%)\")\n",
    "print(f\"   Standard Deviation: ±{cv_scores.std():.4f}\")\n",
    "\n",
    "# Store model and results\n",
    "models['Naive_Bayes'] = nb_model\n",
    "results.append({\n",
    "    'Model': 'Naive Bayes',\n",
    "    'Mean CV Accuracy': cv_scores.mean(),\n",
    "    'Std CV Accuracy': cv_scores.std(),\n",
    "    'Training Time (sec)': training_time\n",
    "})\n",
    "\n",
    "print(\"\\n✓ Naïve Bayes model saved to memory\")"
   ]
  },
  {
   "cell_type": "markdown",
   "id": "fe5d0307-142c-457b-8b03-72b1badade45",
   "metadata": {},
   "source": [
    "## Train SVM model with hyperparameter tunning"
   ]
  },
  {
   "cell_type": "code",
   "execution_count": 5,
   "id": "bbf342ab-7705-44a7-8e4b-8856f9393a8d",
   "metadata": {},
   "outputs": [
    {
     "name": "stdout",
     "output_type": "stream",
     "text": [
      "\n",
      "======================================================================\n",
      "MODEL 2: SUPPORT VECTOR MACHINE (SVM)\n",
      "======================================================================\n",
      "\n",
      "Hyperparameter Search Space:\n",
      "  C (Regularization): [0.1, 1, 10, 100]\n",
      "  Kernel Types: ['linear', 'rbf', 'poly']\n",
      "  Gamma Values: ['scale', 'auto', 0.001, 0.01]\n",
      "\n",
      "  Total combinations to test: 48\n",
      "\n",
      "⏳ Starting Grid Search (this may take 2-5 minutes)...\n",
      "Fitting 5 folds for each of 48 candidates, totalling 240 fits\n",
      "\n",
      "✓ Training completed in 10.17 seconds\n",
      "\n",
      "🏆 Best Parameters Found:\n",
      "  C: 100\n",
      "  gamma: 0.001\n",
      "  kernel: rbf\n",
      "\n",
      "📊 Best Cross-Validation Score: 0.7769 (77.69%)\n",
      "\n",
      "✓ Best SVM model saved to memory\n"
     ]
    }
   ],
   "source": [
    "print(\"\\n\" + \"=\" * 70)\n",
    "print(\"MODEL 2: SUPPORT VECTOR MACHINE (SVM)\")\n",
    "print(\"=\" * 70)\n",
    "\n",
    "# Define hyperparameter grid to search\n",
    "svm_param_grid = {\n",
    "    'C': [0.1, 1, 10, 100],\n",
    "    'kernel': ['linear', 'rbf', 'poly'],\n",
    "    'gamma': ['scale', 'auto', 0.001, 0.01]\n",
    "}\n",
    "\n",
    "print(\"\\nHyperparameter Search Space:\")\n",
    "print(f\"  C (Regularization): {svm_param_grid['C']}\")\n",
    "print(f\"  Kernel Types: {svm_param_grid['kernel']}\")\n",
    "print(f\"  Gamma Values: {svm_param_grid['gamma']}\")\n",
    "print(f\"\\n  Total combinations to test: {len(svm_param_grid['C']) * len(svm_param_grid['kernel']) * len(svm_param_grid['gamma'])}\")\n",
    "\n",
    "print(\"\\n⏳ Starting Grid Search (this may take 2-5 minutes)...\")\n",
    "\n",
    "# Start timer\n",
    "start_time = time.time()\n",
    "\n",
    "# Create SVM model\n",
    "svm_base = SVC(random_state=42)\n",
    "\n",
    "# Grid Search with Cross-Validation\n",
    "svm_grid = GridSearchCV(\n",
    "    svm_base,\n",
    "    svm_param_grid,\n",
    "    cv=5,\n",
    "    scoring='accuracy',\n",
    "    n_jobs=-1,  # Use all CPU cores\n",
    "    verbose=1\n",
    ")\n",
    "\n",
    "# Train with all parameter combinations\n",
    "svm_grid.fit(X_train, y_train)\n",
    "\n",
    "# Calculate training time\n",
    "training_time = time.time() - start_time\n",
    "\n",
    "# Display results\n",
    "print(f\"\\n✓ Training completed in {training_time:.2f} seconds\")\n",
    "print(f\"\\n🏆 Best Parameters Found:\")\n",
    "for param, value in svm_grid.best_params_.items():\n",
    "    print(f\"  {param}: {value}\")\n",
    "\n",
    "print(f\"\\n📊 Best Cross-Validation Score: {svm_grid.best_score_:.4f} ({svm_grid.best_score_*100:.2f}%)\")\n",
    "\n",
    "# Store best model and results\n",
    "models['SVM'] = svm_grid.best_estimator_\n",
    "results.append({\n",
    "    'Model': 'SVM',\n",
    "    'Mean CV Accuracy': svm_grid.best_score_,\n",
    "    'Std CV Accuracy': 0,  # GridSearchCV doesn't provide std directly\n",
    "    'Training Time (sec)': training_time,\n",
    "    'Best Parameters': svm_grid.best_params_\n",
    "})\n",
    "\n",
    "print(\"\\n✓ Best SVM model saved to memory\")"
   ]
  },
  {
   "cell_type": "markdown",
   "id": "5e92d58c-984e-4f22-a27a-b2b7e43d1046",
   "metadata": {},
   "source": [
    "## Train Decision tree with hyperparameter tuning"
   ]
  },
  {
   "cell_type": "code",
   "execution_count": 6,
   "id": "2be776f6-23b6-4a15-b1f6-f23aa042f02f",
   "metadata": {},
   "outputs": [
    {
     "name": "stdout",
     "output_type": "stream",
     "text": [
      "\n",
      "======================================================================\n",
      "MODEL 3: DECISION TREE CLASSIFIER\n",
      "======================================================================\n",
      "\n",
      "Hyperparameter Search Space:\n",
      "  Max Depth: [3, 5, 7, 10, None]\n",
      "  Min Samples Split: [2, 5, 10, 20]\n",
      "  Min Samples Leaf: [1, 2, 4]\n",
      "  Criterion: ['gini', 'entropy']\n",
      "\n",
      "  Total combinations to test: 120\n",
      "\n",
      "⏳ Starting Grid Search (this may take 1-3 minutes)...\n",
      "Fitting 5 folds for each of 120 candidates, totalling 600 fits\n",
      "\n",
      "✓ Training completed in 1.97 seconds\n",
      "\n",
      "🏆 Best Parameters Found:\n",
      "  criterion: entropy\n",
      "  max_depth: 3\n",
      "  min_samples_leaf: 1\n",
      "  min_samples_split: 20\n",
      "\n",
      "📊 Best Cross-Validation Score: 0.7558 (75.58%)\n",
      "\n",
      "✓ Best Decision Tree model saved to memory\n"
     ]
    }
   ],
   "source": [
    "print(\"\\n\" + \"=\" * 70)\n",
    "print(\"MODEL 3: DECISION TREE CLASSIFIER\")\n",
    "print(\"=\" * 70)\n",
    "\n",
    "# Define hyperparameter grid\n",
    "dt_param_grid = {\n",
    "    'max_depth': [3, 5, 7, 10, None],\n",
    "    'min_samples_split': [2, 5, 10, 20],\n",
    "    'min_samples_leaf': [1, 2, 4],\n",
    "    'criterion': ['gini', 'entropy']\n",
    "}\n",
    "\n",
    "print(\"\\nHyperparameter Search Space:\")\n",
    "print(f\"  Max Depth: {dt_param_grid['max_depth']}\")\n",
    "print(f\"  Min Samples Split: {dt_param_grid['min_samples_split']}\")\n",
    "print(f\"  Min Samples Leaf: {dt_param_grid['min_samples_leaf']}\")\n",
    "print(f\"  Criterion: {dt_param_grid['criterion']}\")\n",
    "print(f\"\\n  Total combinations to test: {len(dt_param_grid['max_depth']) * len(dt_param_grid['min_samples_split']) * len(dt_param_grid['min_samples_leaf']) * len(dt_param_grid['criterion'])}\")\n",
    "\n",
    "print(\"\\n⏳ Starting Grid Search (this may take 1-3 minutes)...\")\n",
    "\n",
    "# Start timer\n",
    "start_time = time.time()\n",
    "\n",
    "# Create Decision Tree model\n",
    "dt_base = DecisionTreeClassifier(random_state=42)\n",
    "\n",
    "# Grid Search with Cross-Validation\n",
    "dt_grid = GridSearchCV(\n",
    "    dt_base,\n",
    "    dt_param_grid,\n",
    "    cv=5,\n",
    "    scoring='accuracy',\n",
    "    n_jobs=-1,\n",
    "    verbose=1\n",
    ")\n",
    "\n",
    "# Train with all parameter combinations\n",
    "dt_grid.fit(X_train, y_train)\n",
    "\n",
    "# Calculate training time\n",
    "training_time = time.time() - start_time\n",
    "\n",
    "# Display results\n",
    "print(f\"\\n✓ Training completed in {training_time:.2f} seconds\")\n",
    "print(f\"\\n🏆 Best Parameters Found:\")\n",
    "for param, value in dt_grid.best_params_.items():\n",
    "    print(f\"  {param}: {value}\")\n",
    "\n",
    "print(f\"\\n📊 Best Cross-Validation Score: {dt_grid.best_score_:.4f} ({dt_grid.best_score_*100:.2f}%)\")\n",
    "\n",
    "# Store best model and results\n",
    "models['Decision_Tree'] = dt_grid.best_estimator_\n",
    "results.append({\n",
    "    'Model': 'Decision Tree',\n",
    "    'Mean CV Accuracy': dt_grid.best_score_,\n",
    "    'Std CV Accuracy': 0,\n",
    "    'Training Time (sec)': training_time,\n",
    "    'Best Parameters': dt_grid.best_params_\n",
    "})\n",
    "\n",
    "print(\"\\n✓ Best Decision Tree model saved to memory\")"
   ]
  },
  {
   "cell_type": "markdown",
   "id": "bccb68a6-e312-43b9-98a6-c52f4d1b91a5",
   "metadata": {},
   "source": [
    "## Display Training Result Summary"
   ]
  },
  {
   "cell_type": "code",
   "execution_count": 8,
   "id": "7803d4f0-ad04-4516-9d12-a0729c3d56b4",
   "metadata": {},
   "outputs": [
    {
     "name": "stdout",
     "output_type": "stream",
     "text": [
      "\n",
      "======================================================================\n",
      "TRAINING RESULTS SUMMARY\n",
      "======================================================================\n",
      "\n",
      "\n",
      "        Model  Mean CV Accuracy  Std CV Accuracy  Training Time (sec)                                                                          Best Parameters\n",
      "  Naive Bayes          0.758976         0.007719             0.062002                                                                                      NaN\n",
      "          SVM          0.776929         0.000000            10.174767                                              {'C': 100, 'gamma': 0.001, 'kernel': 'rbf'}\n",
      "Decision Tree          0.755791         0.000000             1.969543 {'criterion': 'entropy', 'max_depth': 3, 'min_samples_leaf': 1, 'min_samples_split': 20}\n",
      "\n",
      "======================================================================\n",
      "🏆 BEST MODEL (Based on Cross-Validation): SVM\n",
      "   Accuracy: 0.7769 (77.69%)\n",
      "======================================================================\n"
     ]
    }
   ],
   "source": [
    "print(\"\\n\" + \"=\" * 70)\n",
    "print(\"TRAINING RESULTS SUMMARY\")\n",
    "print(\"=\" * 70)\n",
    "\n",
    "# Convert results to DataFrame\n",
    "results_df = pd.DataFrame(results)\n",
    "\n",
    "# Display table\n",
    "print(\"\\n\")\n",
    "print(results_df.to_string(index=False))\n",
    "\n",
    "# Find best model\n",
    "best_idx = results_df['Mean CV Accuracy'].idxmax()\n",
    "best_model = results_df.loc[best_idx, 'Model']\n",
    "best_accuracy = results_df.loc[best_idx, 'Mean CV Accuracy']\n",
    "\n",
    "print(\"\\n\" + \"=\" * 70)\n",
    "print(f\"🏆 BEST MODEL (Based on Cross-Validation): {best_model}\")\n",
    "print(f\"   Accuracy: {best_accuracy:.4f} ({best_accuracy*100:.2f}%)\")\n",
    "print(\"=\" * 70)"
   ]
  },
  {
   "cell_type": "code",
   "execution_count": 10,
   "id": "cb7031ac-9616-4df0-b85e-688a08e0d5f4",
   "metadata": {},
   "outputs": [
    {
     "name": "stdout",
     "output_type": "stream",
     "text": [
      "\n",
      "======================================================================\n",
      "TRAINING RESULTS - DETAILED VIEW\n",
      "======================================================================\n",
      "\n",
      "======================================================================\n",
      "Model: Naive Bayes\n",
      "======================================================================\n",
      "Mean CV Accuracy: 0.7590 (75.90%)\n",
      "Std CV Accuracy:  0.0077\n",
      "Training Time:    0.06 seconds\n",
      "\n",
      "======================================================================\n",
      "Model: SVM\n",
      "======================================================================\n",
      "Mean CV Accuracy: 0.7769 (77.69%)\n",
      "Std CV Accuracy:  0.0000\n",
      "Training Time:    10.17 seconds\n",
      "\n",
      "Best Parameters:\n",
      "  • C: 100\n",
      "  • gamma: 0.001\n",
      "  • kernel: rbf\n",
      "\n",
      "======================================================================\n",
      "Model: Decision Tree\n",
      "======================================================================\n",
      "Mean CV Accuracy: 0.7558 (75.58%)\n",
      "Std CV Accuracy:  0.0000\n",
      "Training Time:    1.97 seconds\n",
      "\n",
      "Best Parameters:\n",
      "  • criterion: entropy\n",
      "  • max_depth: 3\n",
      "  • min_samples_leaf: 1\n",
      "  • min_samples_split: 20\n"
     ]
    }
   ],
   "source": [
    "# Display results with better formatting\n",
    "print(\"\\n\" + \"=\" * 70)\n",
    "print(\"TRAINING RESULTS - DETAILED VIEW\")\n",
    "print(\"=\" * 70)\n",
    "\n",
    "for result in results:\n",
    "    print(f\"\\n{'='*70}\")\n",
    "    print(f\"Model: {result['Model']}\")\n",
    "    print(f\"{'='*70}\")\n",
    "    print(f\"Mean CV Accuracy: {result['Mean CV Accuracy']:.4f} ({result['Mean CV Accuracy']*100:.2f}%)\")\n",
    "    print(f\"Std CV Accuracy:  {result['Std CV Accuracy']:.4f}\")\n",
    "    print(f\"Training Time:    {result['Training Time (sec)']:.2f} seconds\")\n",
    "    \n",
    "    if 'Best Parameters' in result:\n",
    "        print(f\"\\nBest Parameters:\")\n",
    "        for param, value in result['Best Parameters'].items():\n",
    "            print(f\"  • {param}: {value}\")\n"
   ]
  },
  {
   "cell_type": "markdown",
   "id": "a1ea43ec-6cfa-4953-a440-43617b163389",
   "metadata": {},
   "source": [
    "## Save all Trained Models"
   ]
  },
  {
   "cell_type": "code",
   "execution_count": 11,
   "id": "2169e7a9-1b71-47ea-9fbe-bdbf3a01838c",
   "metadata": {},
   "outputs": [
    {
     "name": "stdout",
     "output_type": "stream",
     "text": [
      "\n",
      "======================================================================\n",
      "SAVING TRAINED MODELS\n",
      "======================================================================\n",
      "✓ Saved: models/Naive_Bayes.pkl\n",
      "✓ Saved: models/SVM.pkl\n",
      "✓ Saved: models/Decision_Tree.pkl\n",
      "✓ Saved: results/training_results.csv\n",
      "\n",
      "✓ All models and results saved successfully!\n"
     ]
    }
   ],
   "source": [
    "print(\"\\n\" + \"=\" * 70)\n",
    "print(\"SAVING TRAINED MODELS\")\n",
    "print(\"=\" * 70)\n",
    "\n",
    "# Create models folder if it doesn't exist\n",
    "import os\n",
    "os.makedirs('models', exist_ok=True)\n",
    "\n",
    "# Save each model\n",
    "for name, model in models.items():\n",
    "    filename = f'models/{name}.pkl'\n",
    "    joblib.dump(model, filename)\n",
    "    print(f\"✓ Saved: {filename}\")\n",
    "\n",
    "# Save training results\n",
    "results_df.to_csv('results/training_results.csv', index=False)\n",
    "print(f\"✓ Saved: results/training_results.csv\")\n",
    "\n",
    "print(\"\\n✓ All models and results saved successfully!\")"
   ]
  },
  {
   "cell_type": "markdown",
   "id": "8601e84f-419c-4130-9ea2-7926e3312106",
   "metadata": {},
   "source": [
    "## Summary"
   ]
  },
  {
   "cell_type": "code",
   "execution_count": 12,
   "id": "6a630b01-fe35-467a-ace8-2675c6dfe890",
   "metadata": {},
   "outputs": [
    {
     "name": "stdout",
     "output_type": "stream",
     "text": [
      "\n",
      "======================================================================\n",
      "✅ PHASE 4 COMPLETE: MODEL TRAINING\n",
      "======================================================================\n",
      "\n",
      "📦 Saved Models:\n",
      "  ✓ models/Naive_Bayes.pkl\n",
      "  ✓ models/SVM.pkl\n",
      "  ✓ models/Decision_Tree.pkl\n",
      "\n",
      "📊 Training Results:\n",
      "  ✓ results/training_results.csv\n",
      "\n",
      "📈 Performance Summary:\n",
      "  • Naive Bayes    : 75.90% accuracy\n",
      "  • SVM            : 77.69% accuracy\n",
      "  • Decision Tree  : 75.58% accuracy\n"
     ]
    }
   ],
   "source": [
    "print(\"\\n\" + \"=\" * 70)\n",
    "print(\"✅ PHASE 4 COMPLETE: MODEL TRAINING\")\n",
    "print(\"=\" * 70)\n",
    "\n",
    "print(\"\\n📦 Saved Models:\")\n",
    "print(\"  ✓ models/Naive_Bayes.pkl\")\n",
    "print(\"  ✓ models/SVM.pkl\")\n",
    "print(\"  ✓ models/Decision_Tree.pkl\")\n",
    "\n",
    "print(\"\\n📊 Training Results:\")\n",
    "print(\"  ✓ results/training_results.csv\")\n",
    "\n",
    "print(\"\\n📈 Performance Summary:\")\n",
    "for _, row in results_df.iterrows():\n",
    "    print(f\"  • {row['Model']:15s}: {row['Mean CV Accuracy']*100:.2f}% accuracy\")"
   ]
  },
  {
   "cell_type": "code",
   "execution_count": null,
   "id": "2c7057e8-99f0-43cd-9e06-f4fb212442d1",
   "metadata": {},
   "outputs": [],
   "source": []
  }
 ],
 "metadata": {
  "kernelspec": {
   "display_name": "Python 3 (ipykernel)",
   "language": "python",
   "name": "python3"
  },
  "language_info": {
   "codemirror_mode": {
    "name": "ipython",
    "version": 3
   },
   "file_extension": ".py",
   "mimetype": "text/x-python",
   "name": "python",
   "nbconvert_exporter": "python",
   "pygments_lexer": "ipython3",
   "version": "3.12.10"
  }
 },
 "nbformat": 4,
 "nbformat_minor": 5
}
