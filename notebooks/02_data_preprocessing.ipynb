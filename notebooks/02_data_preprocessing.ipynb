{
 "cells": [
  {
   "cell_type": "markdown",
   "id": "615d09af-688a-41f6-a84a-5c51fe8eca01",
   "metadata": {},
   "source": [
    "## Import Libraries"
   ]
  },
  {
   "cell_type": "code",
   "execution_count": 1,
   "id": "3a4d25cc-0e0b-4fcb-9b14-7a1757d10c46",
   "metadata": {},
   "outputs": [
    {
     "name": "stdout",
     "output_type": "stream",
     "text": [
      "✓ Libraries imported successfully!\n"
     ]
    }
   ],
   "source": [
    "import pandas as pd\n",
    "import numpy as np\n",
    "import matplotlib.pyplot as plt\n",
    "import seaborn as sns\n",
    "from sklearn.model_selection import train_test_split\n",
    "from sklearn.preprocessing import StandardScaler\n",
    "import warnings\n",
    "warnings.filterwarnings('ignore')\n",
    "\n",
    "print(\"✓ Libraries imported successfully!\")"
   ]
  },
  {
   "cell_type": "markdown",
   "id": "0717fb35-7df0-40b8-ae27-5c02a022c0f1",
   "metadata": {},
   "source": [
    "## Load Dataset"
   ]
  },
  {
   "cell_type": "code",
   "execution_count": 2,
   "id": "aa254bfe-bdb7-48e9-b33f-d37bad52785b",
   "metadata": {},
   "outputs": [
    {
     "name": "stdout",
     "output_type": "stream",
     "text": [
      "✓ Dataset loaded: (768, 9)\n",
      "  Rows: 768\n",
      "  Columns: 9\n"
     ]
    }
   ],
   "source": [
    "# Load the original dataset\n",
    "df = pd.read_csv('data/diabetes.csv')\n",
    "\n",
    "print(f\"✓ Dataset loaded: {df.shape}\")\n",
    "print(f\"  Rows: {df.shape[0]}\")\n",
    "print(f\"  Columns: {df.shape[1]}\")"
   ]
  },
  {
   "cell_type": "markdown",
   "id": "20f5b4e5-2848-436e-b8bb-51ab4137cbb3",
   "metadata": {},
   "source": [
    "## Identify Columns with Zero Problems"
   ]
  },
  {
   "cell_type": "code",
   "execution_count": 3,
   "id": "fe3a8e17-33f7-4240-886e-e86c2f030163",
   "metadata": {},
   "outputs": [
    {
     "name": "stdout",
     "output_type": "stream",
     "text": [
      "Checking for impossible zero values:\n",
      "\n",
      "------------------------------------------------------------\n",
      "Glucose             :    5 zeros ( 0.65%)\n",
      "BloodPressure       :   35 zeros ( 4.56%)\n",
      "SkinThickness       :  227 zeros (29.56%)\n",
      "Insulin             :  374 zeros (48.70%)\n",
      "BMI                 :   11 zeros ( 1.43%)\n"
     ]
    }
   ],
   "source": [
    "# These columns shouldn't have zeros (medically impossible)\n",
    "zero_not_allowed = ['Glucose', 'BloodPressure', 'SkinThickness', 'Insulin', 'BMI']\n",
    "\n",
    "print(\"Checking for impossible zero values:\\n\")\n",
    "print(\"-\" * 60)\n",
    "\n",
    "for col in zero_not_allowed:\n",
    "    zero_count = (df[col] == 0).sum()\n",
    "    zero_pct = (zero_count / len(df)) * 100\n",
    "    print(f\"{col:20s}: {zero_count:4d} zeros ({zero_pct:5.2f}%)\")"
   ]
  },
  {
   "cell_type": "markdown",
   "id": "22d437cc-0453-4aae-a0a3-11a2b8d5b530",
   "metadata": {},
   "source": [
    "## Replace zero with NAN"
   ]
  },
  {
   "cell_type": "code",
   "execution_count": 4,
   "id": "dd740c59-8dc1-46bc-9756-a2201f669c25",
   "metadata": {},
   "outputs": [
    {
     "name": "stdout",
     "output_type": "stream",
     "text": [
      "✓ Zeros replaced with NaN (missing values)\n",
      "\n",
      "Missing values after replacement:\n",
      "Pregnancies                   0\n",
      "Glucose                       5\n",
      "BloodPressure                35\n",
      "SkinThickness               227\n",
      "Insulin                     374\n",
      "BMI                          11\n",
      "DiabetesPedigreeFunction      0\n",
      "Age                           0\n",
      "Outcome                       0\n",
      "dtype: int64\n"
     ]
    }
   ],
   "source": [
    "# Replace zeros with NaN (proper way to mark missing data)\n",
    "df[zero_not_allowed] = df[zero_not_allowed].replace(0, np.nan)\n",
    "\n",
    "print(\"✓ Zeros replaced with NaN (missing values)\\n\")\n",
    "print(\"Missing values after replacement:\")\n",
    "print(df.isnull().sum())"
   ]
  },
  {
   "cell_type": "markdown",
   "id": "44be521b-37bc-4caf-87cd-a968c06c4b20",
   "metadata": {},
   "source": [
    "## Fill missing values with median"
   ]
  },
  {
   "cell_type": "code",
   "execution_count": 5,
   "id": "25217779-743d-4214-bace-43096b1e1d08",
   "metadata": {},
   "outputs": [
    {
     "name": "stdout",
     "output_type": "stream",
     "text": [
      "\n",
      "Filling missing values with median...\n",
      "\n",
      "------------------------------------------------------------\n",
      "Glucose             : Filled with median = 117.00\n",
      "BloodPressure       : Filled with median = 72.00\n",
      "SkinThickness       : Filled with median = 29.00\n",
      "Insulin             : Filled with median = 125.00\n",
      "BMI                 : Filled with median = 32.30\n",
      "\n",
      "✓ All missing values filled!\n"
     ]
    }
   ],
   "source": [
    "# Fill missing values with the median (middle value)\n",
    "print(\"\\nFilling missing values with median...\\n\")\n",
    "print(\"-\" * 60)\n",
    "\n",
    "for col in zero_not_allowed:\n",
    "    if df[col].isnull().sum() > 0:\n",
    "        median_value = df[col].median()\n",
    "        df[col].fillna(median_value, inplace=True)\n",
    "        print(f\"{col:20s}: Filled with median = {median_value:.2f}\")\n",
    "\n",
    "print(\"\\n✓ All missing values filled!\")"
   ]
  },
  {
   "cell_type": "markdown",
   "id": "c09660fa-a0c7-4cd8-b0eb-3353c07d7650",
   "metadata": {},
   "source": [
    "## Verify no missing values exist"
   ]
  },
  {
   "cell_type": "code",
   "execution_count": 6,
   "id": "a8969a91-0e8d-4c3e-b83b-0b32697f9d0f",
   "metadata": {},
   "outputs": [
    {
     "name": "stdout",
     "output_type": "stream",
     "text": [
      "Final missing value check:\n",
      "------------------------------------------------------------\n",
      "Pregnancies                 0\n",
      "Glucose                     0\n",
      "BloodPressure               0\n",
      "SkinThickness               0\n",
      "Insulin                     0\n",
      "BMI                         0\n",
      "DiabetesPedigreeFunction    0\n",
      "Age                         0\n",
      "Outcome                     0\n",
      "dtype: int64\n",
      "\n",
      "Total missing values: 0\n",
      "\n",
      "✓ SUCCESS: No missing values remaining!\n"
     ]
    }
   ],
   "source": [
    "# Check if we successfully handled all missing values\n",
    "print(\"Final missing value check:\")\n",
    "print(\"-\" * 60)\n",
    "print(df.isnull().sum())\n",
    "print(f\"\\nTotal missing values: {df.isnull().sum().sum()}\")\n",
    "\n",
    "if df.isnull().sum().sum() == 0:\n",
    "    print(\"\\n✓ SUCCESS: No missing values remaining!\")\n",
    "else:\n",
    "    print(\"\\n⚠ WARNING: Some missing values still exist!\")"
   ]
  },
  {
   "cell_type": "markdown",
   "id": "49b66e77-f9f7-4b42-9869-62995b945d26",
   "metadata": {},
   "source": [
    "## Separate Features and Targets"
   ]
  },
  {
   "cell_type": "code",
   "execution_count": 7,
   "id": "25e17100-8aa2-4654-8c88-180c5af37ec4",
   "metadata": {},
   "outputs": [
    {
     "name": "stdout",
     "output_type": "stream",
     "text": [
      "Feature matrix (X) shape: (768, 8)\n",
      "Target vector (y) shape: (768,)\n",
      "\n",
      "Features (what we use to predict):\n",
      "['Pregnancies', 'Glucose', 'BloodPressure', 'SkinThickness', 'Insulin', 'BMI', 'DiabetesPedigreeFunction', 'Age']\n",
      "\n",
      "Target (what we're trying to predict):\n",
      "Outcome: 0=Non-Diabetic, 1=Diabetic\n"
     ]
    }
   ],
   "source": [
    "# Separate input features (X) from output target (y)\n",
    "X = df.drop('Outcome', axis=1)  # All columns except 'Outcome'\n",
    "y = df['Outcome']                # Only the 'Outcome' column\n",
    "\n",
    "print(\"Feature matrix (X) shape:\", X.shape)\n",
    "print(\"Target vector (y) shape:\", y.shape)\n",
    "print(\"\\nFeatures (what we use to predict):\")\n",
    "print(X.columns.tolist())\n",
    "print(\"\\nTarget (what we're trying to predict):\")\n",
    "print(\"Outcome: 0=Non-Diabetic, 1=Diabetic\")"
   ]
  },
  {
   "cell_type": "markdown",
   "id": "7c6126f9-0853-4ac4-b714-5b31cce11161",
   "metadata": {},
   "source": [
    "## Splitting data into training and test set"
   ]
  },
  {
   "cell_type": "code",
   "execution_count": 8,
   "id": "843d25b3-390c-41ce-a6d5-ec33ae7e060c",
   "metadata": {},
   "outputs": [
    {
     "name": "stdout",
     "output_type": "stream",
     "text": [
      "Data split completed!\n",
      "------------------------------------------------------------\n",
      "Training set: 614 samples (79.9%)\n",
      "Testing set:  154 samples (20.1%)\n",
      "\n",
      "Class distribution in training set:\n",
      "Outcome\n",
      "0    400\n",
      "1    214\n",
      "Name: count, dtype: int64\n",
      "\n",
      "Class distribution in testing set:\n",
      "Outcome\n",
      "0    100\n",
      "1     54\n",
      "Name: count, dtype: int64\n"
     ]
    }
   ],
   "source": [
    "# Split data: 80% for training, 20% for testing\n",
    "X_train, X_test, y_train, y_test = train_test_split(\n",
    "    X, y, \n",
    "    test_size=0.2,      # 20% for testing\n",
    "    random_state=42,    # For reproducibility\n",
    "    stratify=y          # Keep same diabetic/non-diabetic ratio in both sets\n",
    ")\n",
    "\n",
    "print(\"Data split completed!\")\n",
    "print(\"-\" * 60)\n",
    "print(f\"Training set: {len(X_train)} samples ({len(X_train)/len(X)*100:.1f}%)\")\n",
    "print(f\"Testing set:  {len(X_test)} samples ({len(X_test)/len(X)*100:.1f}%)\")\n",
    "\n",
    "print(\"\\nClass distribution in training set:\")\n",
    "print(y_train.value_counts())\n",
    "print(\"\\nClass distribution in testing set:\")\n",
    "print(y_test.value_counts())"
   ]
  },
  {
   "cell_type": "markdown",
   "id": "90d356cc-b9d7-4e6c-b65a-1609a1b1603f",
   "metadata": {},
   "source": [
    "## Scales the features"
   ]
  },
  {
   "cell_type": "code",
   "execution_count": 9,
   "id": "053fd7bd-4990-4eb3-a9db-e0ff0591a681",
   "metadata": {},
   "outputs": [
    {
     "name": "stdout",
     "output_type": "stream",
     "text": [
      "✓ Features scaled successfully!\n",
      "\n",
      "Before scaling (sample):\n",
      "     Pregnancies  Glucose  BloodPressure  SkinThickness  Insulin   BMI  \\\n",
      "353            1     90.0           62.0           12.0     43.0  27.2   \n",
      "711            5    126.0           78.0           27.0     22.0  29.6   \n",
      "373            2    105.0           58.0           40.0     94.0  34.9   \n",
      "\n",
      "     DiabetesPedigreeFunction  Age  \n",
      "353                     0.580   24  \n",
      "711                     0.439   40  \n",
      "373                     0.225   25  \n",
      "\n",
      "After scaling (sample):\n",
      "   Pregnancies   Glucose  BloodPressure  SkinThickness   Insulin       BMI  \\\n",
      "0    -0.851355 -1.056427      -0.826740      -1.918187 -1.203361 -0.769477   \n",
      "1     0.356576  0.144399       0.477772      -0.229874 -1.470195 -0.417498   \n",
      "2    -0.549372 -0.556083      -1.152868       1.233330 -0.555335  0.359790   \n",
      "\n",
      "   DiabetesPedigreeFunction       Age  \n",
      "0                  0.310794 -0.792169  \n",
      "1                 -0.116439  0.561034  \n",
      "2                 -0.764862 -0.707594  \n"
     ]
    }
   ],
   "source": [
    "# Create a scaler object\n",
    "scaler = StandardScaler()\n",
    "\n",
    "# Fit the scaler on training data and transform both sets\n",
    "X_train_scaled = scaler.fit_transform(X_train)\n",
    "X_test_scaled = scaler.transform(X_test)\n",
    "\n",
    "# Convert back to DataFrame for easier viewing\n",
    "X_train_scaled = pd.DataFrame(X_train_scaled, columns=X.columns)\n",
    "X_test_scaled = pd.DataFrame(X_test_scaled, columns=X.columns)\n",
    "\n",
    "print(\"✓ Features scaled successfully!\")\n",
    "print(\"\\nBefore scaling (sample):\")\n",
    "print(X_train.head(3))\n",
    "print(\"\\nAfter scaling (sample):\")\n",
    "print(X_train_scaled.head(3))"
   ]
  },
  {
   "cell_type": "markdown",
   "id": "cd2ad82d-a74f-47f8-bcb5-496e6f83c671",
   "metadata": {},
   "source": [
    "## Check Scaling Results"
   ]
  },
  {
   "cell_type": "code",
   "execution_count": 10,
   "id": "599a113e-7f53-460b-839b-7b256ae40a78",
   "metadata": {},
   "outputs": [
    {
     "name": "stdout",
     "output_type": "stream",
     "text": [
      "Checking scaled data statistics:\n",
      "------------------------------------------------------------\n",
      "\n",
      "Means (should be close to 0):\n",
      "Pregnancies                -6.943414e-17\n",
      "Glucose                    -1.099374e-16\n",
      "BloodPressure               3.095606e-16\n",
      "SkinThickness              -3.471707e-17\n",
      "Insulin                    -4.339634e-18\n",
      "BMI                        -1.148556e-15\n",
      "DiabetesPedigreeFunction   -1.099374e-16\n",
      "Age                        -1.084908e-16\n",
      "dtype: float64\n",
      "\n",
      "Standard deviations (should be close to 1):\n",
      "Pregnancies                 1.000815\n",
      "Glucose                     1.000815\n",
      "BloodPressure               1.000815\n",
      "SkinThickness               1.000815\n",
      "Insulin                     1.000815\n",
      "BMI                         1.000815\n",
      "DiabetesPedigreeFunction    1.000815\n",
      "Age                         1.000815\n",
      "dtype: float64\n"
     ]
    }
   ],
   "source": [
    "# Verify scaling worked correctly\n",
    "print(\"Checking scaled data statistics:\")\n",
    "print(\"-\" * 60)\n",
    "print(\"\\nMeans (should be close to 0):\")\n",
    "print(X_train_scaled.mean())\n",
    "\n",
    "print(\"\\nStandard deviations (should be close to 1):\")\n",
    "print(X_train_scaled.std())"
   ]
  },
  {
   "cell_type": "markdown",
   "id": "58704d3d-1b1e-43a7-af24-9146ec309486",
   "metadata": {},
   "source": [
    "## Save Processed Data"
   ]
  },
  {
   "cell_type": "code",
   "execution_count": 11,
   "id": "4ed675f9-697d-49e0-b6bc-5a63b837939d",
   "metadata": {},
   "outputs": [
    {
     "name": "stdout",
     "output_type": "stream",
     "text": [
      "✓ Preprocessed data saved!\n",
      "\n",
      "Saved files:\n",
      "  ✓ data/X_train_scaled.csv\n",
      "  ✓ data/X_test_scaled.csv\n",
      "  ✓ data/y_train.csv\n",
      "  ✓ data/y_test.csv\n"
     ]
    }
   ],
   "source": [
    "# Save the preprocessed data for later use\n",
    "X_train_scaled.to_csv('data/X_train_scaled.csv', index=False)\n",
    "X_test_scaled.to_csv('data/X_test_scaled.csv', index=False)\n",
    "y_train.to_csv('data/y_train.csv', index=False)\n",
    "y_test.to_csv('data/y_test.csv', index=False)\n",
    "\n",
    "print(\"✓ Preprocessed data saved!\")\n",
    "print(\"\\nSaved files:\")\n",
    "print(\"  ✓ data/X_train_scaled.csv\")\n",
    "print(\"  ✓ data/X_test_scaled.csv\")\n",
    "print(\"  ✓ data/y_train.csv\")\n",
    "print(\"  ✓ data/y_test.csv\")"
   ]
  },
  {
   "cell_type": "markdown",
   "id": "b0696148-a627-4d84-a993-044354caabab",
   "metadata": {},
   "source": [
    "## Save Scaler Object"
   ]
  },
  {
   "cell_type": "code",
   "execution_count": 13,
   "id": "1a453793-3f30-4681-b4fd-c81355ec047d",
   "metadata": {},
   "outputs": [
    {
     "name": "stdout",
     "output_type": "stream",
     "text": [
      "✓ Scaler saved to: models/scaler.pkl\n"
     ]
    }
   ],
   "source": [
    "import joblib\n",
    "\n",
    "# Save the scaler for future use (deployment)\n",
    "joblib.dump(scaler, 'models/scaler.pkl')\n",
    "\n",
    "print(\"✓ Scaler saved to: models/scaler.pkl\")"
   ]
  },
  {
   "cell_type": "markdown",
   "id": "752c7ad9-9df0-411e-976c-fbc4f6094d70",
   "metadata": {},
   "source": [
    "## Data Processing Summary"
   ]
  },
  {
   "cell_type": "code",
   "execution_count": 15,
   "id": "52724023-181b-4157-8ef2-b7936526fc9d",
   "metadata": {},
   "outputs": [
    {
     "name": "stdout",
     "output_type": "stream",
     "text": [
      "======================================================================\n",
      "DATA PREPROCESSING SUMMARY\n",
      "======================================================================\n",
      "\n",
      "✓ Original dataset: 768 patients, 9 features\n",
      "✓ Handled missing values: ['Glucose', 'BloodPressure', 'SkinThickness', 'Insulin', 'BMI']\n",
      "✓ Training set: 614 samples\n",
      "✓ Testing set: 154 samples\n",
      "✓ Features scaled using StandardScaler\n",
      "✓ All data saved to data/ folder\n",
      "✓ Scaler saved to models/ folder\n",
      "\n",
      "======================================================================\n",
      "READY FOR MODEL TRAINING!\n",
      "======================================================================\n"
     ]
    }
   ],
   "source": [
    "print(\"=\" * 70)\n",
    "print(\"DATA PREPROCESSING SUMMARY\")\n",
    "print(\"=\" * 70)\n",
    "\n",
    "print(f\"\\n✓ Original dataset: {df.shape[0]} patients, {df.shape[1]} features\")\n",
    "print(f\"✓ Handled missing values: {zero_not_allowed}\")\n",
    "print(f\"✓ Training set: {len(X_train)} samples\")\n",
    "print(f\"✓ Testing set: {len(X_test)} samples\")\n",
    "print(f\"✓ Features scaled using StandardScaler\")\n",
    "print(f\"✓ All data saved to data/ folder\")\n",
    "print(f\"✓ Scaler saved to models/ folder\")\n",
    "\n",
    "print(\"\\n\" + \"=\" * 70)\n",
    "print(\"READY FOR MODEL TRAINING!\")\n",
    "print(\"=\" * 70)"
   ]
  },
  {
   "cell_type": "code",
   "execution_count": null,
   "id": "3b7955f0-7850-4e3a-b64c-0cd548adc652",
   "metadata": {},
   "outputs": [],
   "source": []
  }
 ],
 "metadata": {
  "kernelspec": {
   "display_name": "Python 3 (ipykernel)",
   "language": "python",
   "name": "python3"
  },
  "language_info": {
   "codemirror_mode": {
    "name": "ipython",
    "version": 3
   },
   "file_extension": ".py",
   "mimetype": "text/x-python",
   "name": "python",
   "nbconvert_exporter": "python",
   "pygments_lexer": "ipython3",
   "version": "3.12.10"
  }
 },
 "nbformat": 4,
 "nbformat_minor": 5
}
